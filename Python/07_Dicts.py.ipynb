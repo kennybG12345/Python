{
  "nbformat": 4,
  "nbformat_minor": 0,
  "metadata": {
    "colab": {
      "provenance": []
    },
    "kernelspec": {
      "name": "python3",
      "display_name": "Python 3"
    },
    "language_info": {
      "name": "python"
    }
  },
  "cells": [
    {
      "cell_type": "code",
      "execution_count": null,
      "metadata": {
        "colab": {
          "base_uri": "https://localhost:8080/"
        },
        "id": "hxb0EeXeUrz4",
        "outputId": "b60284d2-b633-47d2-ee4c-faee180e3870"
      },
      "outputs": [
        {
          "output_type": "stream",
          "name": "stdout",
          "text": [
            "<class 'dict'>\n",
            "<class 'dict'>\n",
            "{'Nombre': 'Brais', 'Apellido': 'Moure', 'Edad': 35, 1: 'Python'}\n",
            "{'Nombre': 'Brais', 'Apellido': 'Moure', 'Edad': 35, 'Lenguajes': {'Swift', 'Kotlin', 'Python'}, 1: 1.77}\n",
            "4\n",
            "5\n",
            "1.77\n",
            "Brais\n",
            "False\n",
            "True\n",
            "{'Nombre': 'Brais', 'Apellido': 'Moure', 'Edad': 35, 'Lenguajes': {'Swift', 'Kotlin', 'Python'}, 1: 1.77, 'Calle': 'Calle MoureDev'}\n",
            "Pedro\n",
            "{'Nombre': 'Pedro', 'Apellido': 'Moure', 'Edad': 35, 'Lenguajes': {'Swift', 'Kotlin', 'Python'}, 1: 1.77}\n",
            "dict_items([('Nombre', 'Pedro'), ('Apellido', 'Moure'), ('Edad', 35), ('Lenguajes', {'Swift', 'Kotlin', 'Python'}), (1, 1.77)])\n",
            "dict_keys(['Nombre', 'Apellido', 'Edad', 'Lenguajes', 1])\n",
            "dict_values(['Pedro', 'Moure', 35, {'Swift', 'Kotlin', 'Python'}, 1.77])\n",
            "{'Nombre': None, 1: None, 'Piso': None}\n",
            "{'Nombre': None, 1: None, 'Piso': None}\n",
            "{'Nombre': None, 'Apellido': None, 'Edad': None, 'Lenguajes': None, 1: None}\n",
            "{'Nombre': 'MoureDev', 'Apellido': 'MoureDev', 'Edad': 'MoureDev', 'Lenguajes': 'MoureDev', 1: 'MoureDev'}\n",
            "<class 'dict_values'>\n",
            "dict_values(['MoureDev', 'MoureDev', 'MoureDev', 'MoureDev', 'MoureDev'])\n",
            "['MoureDev']\n",
            "('Nombre', 'Apellido', 'Edad', 'Lenguajes', 1)\n",
            "{'Lenguajes', 1, 'Apellido', 'Edad', 'Nombre'}\n"
          ]
        }
      ],
      "source": [
        "### Dictionaries ###\n",
        "\n",
        "# Definición\n",
        "\n",
        "my_dict = dict()\n",
        "my_other_dict = {}\n",
        "\n",
        "print(type(my_dict))\n",
        "print(type(my_other_dict))\n",
        "\n",
        "my_other_dict = {\"Nombre\": \"Fermín\",\n",
        "                 \"Apellido\": \"García\", \"Edad\": 35, 1: \"Python\"}\n",
        "\n",
        "my_dict = {\n",
        "    \"Nombre\": \"Fermín\",\n",
        "    \"Apellido\": \"García\",\n",
        "    \"Edad\": 35,\n",
        "    \"Lenguajes\": {\"Python\", \"Swift\", \"Kotlin\"},\n",
        "    1: 1.77\n",
        "}\n",
        "\n",
        "print(my_other_dict)\n",
        "print(my_dict)\n",
        "\n",
        "print(len(my_other_dict))\n",
        "print(len(my_dict))\n",
        "\n",
        "# Búsqueda\n",
        "\n",
        "print(my_dict[1])\n",
        "print(my_dict[\"Nombre\"])\n",
        "\n",
        "print(\"García\" in my_dict)\n",
        "print(\"Apellido\" in my_dict)\n",
        "\n",
        "# Inserción\n",
        "\n",
        "my_dict[\"Calle\"] = \"Calle García\"\n",
        "print(my_dict)\n",
        "\n",
        "# Actualización\n",
        "\n",
        "my_dict[\"Nombre\"] = \"Juan\"\n",
        "print(my_dict[\"Nombre\"])\n",
        "\n",
        "# Eliminación\n",
        "\n",
        "del my_dict[\"Calle\"]\n",
        "print(my_dict)\n",
        "\n",
        "# Otras operaciones\n",
        "\n",
        "print(my_dict.items())\n",
        "print(my_dict.keys())\n",
        "print(my_dict.values())\n",
        "\n",
        "my_list = [\"Nombre\", 1, \"Piso\"]\n",
        "\n",
        "my_new_dict = dict.fromkeys((my_list))\n",
        "print(my_new_dict)\n",
        "my_new_dict = dict.fromkeys((\"Nombre\", 1, \"Piso\"))\n",
        "print((my_new_dict))\n",
        "my_new_dict = dict.fromkeys(my_dict)\n",
        "print((my_new_dict))\n",
        "my_new_dict = dict.fromkeys(my_dict, \"García\")\n",
        "print((my_new_dict))\n",
        "\n",
        "my_values = my_new_dict.values()\n",
        "print(type(my_values))\n",
        "\n",
        "print(my_new_dict.values())\n",
        "print(list(dict.fromkeys(list(my_new_dict.values())).keys()))\n",
        "print(tuple(my_new_dict))\n",
        "print(set(my_new_dict))"
      ]
    }
  ]
}