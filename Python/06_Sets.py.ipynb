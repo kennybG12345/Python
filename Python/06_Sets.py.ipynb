{
  "nbformat": 4,
  "nbformat_minor": 0,
  "metadata": {
    "colab": {
      "provenance": []
    },
    "kernelspec": {
      "name": "python3",
      "display_name": "Python 3"
    },
    "language_info": {
      "name": "python"
    }
  },
  "cells": [
    {
      "cell_type": "code",
      "execution_count": null,
      "metadata": {
        "colab": {
          "base_uri": "https://localhost:8080/"
        },
        "id": "O7DnVS1BPBsI",
        "outputId": "b3a2e687-097c-4d58-ba2f-7bf69165b1cf"
      },
      "outputs": [
        {
          "output_type": "stream",
          "name": "stdout",
          "text": [
            "<class 'set'>\n",
            "<class 'dict'>\n",
            "<class 'set'>\n",
            "3\n",
            "{'Brais', 35, 'Moure', 'MoureDev'}\n",
            "{'Brais', 35, 'Moure', 'MoureDev'}\n",
            "True\n",
            "False\n",
            "{'Brais', 35, 'MoureDev'}\n",
            "0\n",
            "['Brais', 35, 'Moure']\n",
            "Brais\n",
            "{'Moure', 35, 'JavaScript', 'C#', 'Python', 'Brais', 'Kotlin', 'Swift'}\n",
            "{'Python', 'Kotlin', 'Swift'}\n"
          ]
        }
      ],
      "source": [
        "### Sets ###\n",
        "\n",
        "# Definición\n",
        "\n",
        "my_set = set()\n",
        "my_other_set = {}\n",
        "\n",
        "print(type(my_set))\n",
        "print(type(my_other_set))  # Inicialmente es un diccionario\n",
        "\n",
        "my_other_set = {\"Brais\", \"Moure\", 35}\n",
        "print(type(my_other_set))\n",
        "\n",
        "print(len(my_other_set))\n",
        "\n",
        "# Inserción\n",
        "\n",
        "my_other_set.add(\"MoureDev\")\n",
        "\n",
        "print(my_other_set)  # Un set no es una estructura ordenada\n",
        "\n",
        "my_other_set.add(\"MoureDev\")  # Un set no admite repetidos\n",
        "\n",
        "print(my_other_set)\n",
        "\n",
        "# Búsqueda\n",
        "\n",
        "print(\"Moure\" in my_other_set)\n",
        "print(\"Mouri\" in my_other_set)\n",
        "\n",
        "# Eliminación\n",
        "\n",
        "my_other_set.remove(\"Moure\")\n",
        "print(my_other_set)\n",
        "\n",
        "my_other_set.clear()\n",
        "print(len(my_other_set))\n",
        "\n",
        "del my_other_set\n",
        "# print(my_other_set) NameError: name 'my_other_set' is not defined\n",
        "\n",
        "# Transformación\n",
        "\n",
        "my_set = {\"Brais\", \"Moure\", 35}\n",
        "my_list = list(my_set)\n",
        "print(my_list)\n",
        "print(my_list[0])\n",
        "\n",
        "my_other_set = {\"Kotlin\", \"Swift\", \"Python\"}\n",
        "\n",
        "# Otras operaciones\n",
        "\n",
        "my_new_set = my_set.union(my_other_set)\n",
        "print(my_new_set.union(my_new_set).union(my_set).union({\"JavaScript\", \"C#\"}))\n",
        "print(my_new_set.difference(my_set))"
      ]
    }
  ]
}